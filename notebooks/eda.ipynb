{
 "cells": [
  {
   "cell_type": "markdown",
   "id": "f64f66d6",
   "metadata": {},
   "source": [
    "# EDA Notebook"
   ]
  },
  {
   "cell_type": "code",
   "execution_count": null,
   "id": "8467a938",
   "metadata": {},
   "outputs": [],
   "source": [
    "import pandas as pd\n",
    "import numpy as np\n",
    "import matplotlib.pyplot as plt\n",
    "import seaborn as sns"
   ]
  },
  {
   "cell_type": "code",
   "execution_count": null,
   "id": "642cccad",
   "metadata": {},
   "outputs": [],
   "source": [
    "def print_table_meta(data):\n",
    "    print(\"Num rows in dataset: \", len(data))\n",
    "    print(\"Columns: \", data.columns)\n",
    "\n",
    "def count_na(data):\n",
    "    missing_values = data.isnull().sum()\n",
    "\n",
    "    missing_values_percentage = (missing_values / len(data)) * 100\n",
    "\n",
    "    missing_data = pd.DataFrame({'Missing Values': missing_values, 'Percentage (%)': missing_values_percentage})\n",
    "    return missing_data.sort_values(by='Percentage (%)', ascending=False)\n",
    "\n",
    "def plots(col, name, dropna=False, continuous=True, topten=True, exclude_outliers=False):\n",
    "    col = pd.Series(col)\n",
    "    if dropna:\n",
    "        col = col.dropna()\n",
    "\n",
    "    if continuous:\n",
    "        data = col.copy()\n",
    "\n",
    "        if exclude_outliers:\n",
    "            # Use IQR method to exclude outliers\n",
    "            Q1 = data.quantile(0.25)\n",
    "            Q3 = data.quantile(0.75)\n",
    "            IQR = Q3 - Q1\n",
    "            lower = Q1 - 1.5 * IQR\n",
    "            upper = Q3 + 1.5 * IQR\n",
    "            data = data[(data >= lower) & (data <= upper)]\n",
    "            print(f\"{name}: {len(col) - len(data)} outliers excluded\")\n",
    "\n",
    "        mean = data.mean()\n",
    "        count = data.count()\n",
    "        max_val = data.max()\n",
    "        min_val = data.min()\n",
    "        print(f\"{name} mean: {mean:.2f} | count: {count}\")\n",
    "        print(f\"{name} max: {max_val} | min: {min_val}\")\n",
    "\n",
    "        plt.hist(data, density=True, bins=30, edgecolor='black')\n",
    "        plt.title(f\"Distribution of {name}\")\n",
    "        plt.xlabel(name)\n",
    "        plt.ylabel(\"Probability Density\")\n",
    "        plt.show()\n",
    "\n",
    "    else:\n",
    "        counts = col.value_counts(dropna=dropna)\n",
    "        vals = counts.index.to_list()\n",
    "        if topten:\n",
    "            counts = counts[:10]\n",
    "            vals = vals[:10]\n",
    "        counts_list = counts.to_list()\n",
    "        most_common = vals[np.argmax(counts_list)]\n",
    "        least_common = vals[np.argmin(counts_list)]\n",
    "        print(f\"{name} most common: {most_common}, count: {np.max(counts_list)}\")\n",
    "        print(f\"{name} least common: {least_common}, count: {np.min(counts_list)}\")\n",
    "\n",
    "        plt.bar([str(v) for v in vals], counts_list)\n",
    "        plt.title(f\"Top Categories in {name}\")\n",
    "        plt.xlabel(\"Values\")\n",
    "        plt.ylabel(\"Counts\")\n",
    "        plt.xticks(rotation=45)\n",
    "        plt.tight_layout()\n",
    "        plt.show()\n"
   ]
  }
 ],
 "metadata": {
  "kernelspec": {
   "display_name": "mldev",
   "language": "python",
   "name": "python3"
  },
  "language_info": {
   "codemirror_mode": {
    "name": "ipython",
    "version": 3
   },
   "file_extension": ".py",
   "mimetype": "text/x-python",
   "name": "python",
   "nbconvert_exporter": "python",
   "pygments_lexer": "ipython3",
   "version": "3.11.8"
  }
 },
 "nbformat": 4,
 "nbformat_minor": 5
}
